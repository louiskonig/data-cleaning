{
 "cells": [
  {
   "cell_type": "code",
   "execution_count": 17,
   "metadata": {},
   "outputs": [],
   "source": [
    "import numpy as np\n",
    "import pandas as pd\n",
    "import matplotlib.pyplot as plt\n",
    "import seaborn as sns\n",
    "import editdistance\n",
    "\n",
    "import re\n",
    "\n",
    "%matplotlib notebook"
   ]
  },
  {
   "cell_type": "code",
   "execution_count": 18,
   "metadata": {},
   "outputs": [],
   "source": [
    "apc_spend = pd.read_csv('WELLCOME_APCspend2013_forThinkful.csv', encoding='Latin-1')"
   ]
  },
  {
   "cell_type": "code",
   "execution_count": 19,
   "metadata": {},
   "outputs": [],
   "source": [
    "def cleanup_journal_title(title):\n",
    "    word_mapping = {\n",
    "        'j': 'journal of',\n",
    "        'med': 'medical',\n",
    "        'chem': 'chemistry',\n",
    "        'mol': 'molecular',\n",
    "        'acs': '',\n",
    "        'plosone': 'plos one',\n",
    "        'neurolmage': 'neuroimage',\n",
    "        'nucleic acid research': 'nucleic acids research',\n",
    "        'plos negected tropical diseases': 'plos neglected tropical diseases',\n",
    "        'biochemical journals': 'biochemical journal',\n",
    "        'development cell': 'developmental cell',\n",
    "        'plos': 'plos one',\n",
    "        'journal of medicial chemistry': 'journal of medicinal chemistry',\n",
    "        'parsitology': 'parasitology',\n",
    "        'journal of the royal society, interface': 'journal of the royal society interface',\n",
    "        'inyernational journal of epidemiology': 'international journal of epidemiology',\n",
    "        'international joural of epidemiology': 'international journal of epidemiology',\n",
    "        'pyschological medicine': 'psychological medicine',\n",
    "        'journal of visualized experiements': 'journal of visualized experiments',\n",
    "        'british jounal of pharmacology': 'british journal of pharmacology',\n",
    "        'bms genomics': 'bmc genomics',\n",
    "        'bmc genetics': 'bmc genomics',\n",
    "        'bmc genomics.': 'bmc genomics',\n",
    "        'biinformatics': 'bioinformatics',\n",
    "        'antimicobial agents and chemotherapy': 'antimicrobial agents and chemotherapy',\n",
    "        'antimicrobial agfents and chemotherapy': 'antimicrobial agents and chemotherapy',\n",
    "        'the americal journal of human genetics': 'the american journal of human genetics',\n",
    "        'genetic epidemology': 'genetic epidemiology',\n",
    "        'dev. world bioeth': 'dev world bioeth.',\n",
    "        'epigentics': 'epigenetics',\n",
    "        'behaviour research and therapy': 'behavior research and therapy',\n",
    "        'jounral of clinical microbiology': 'journal of clinical microbiology',\n",
    "        'trends in neuroscience': 'trends in neurosciences',\n",
    "        'britsh journal of psychiatry': 'british journal of psychiatry',\n",
    "        'journal of behaviour therapy and experimental psychiatry': 'journal of behavior therapy and experimental psychiatry',\n",
    "        'journal of biol chemistry': 'journal of biol chemistry',\n",
    "        'pflugers archive': 'pflugers archiv',\n",
    "        'bmc genomics.': 'bms genomics',\n",
    "        'british journal of opthalmology': 'british journal of ophthalmology',\n",
    "        'current opinions in neurobiology': 'current opinion in neurobiology',\n",
    "        'developmental science': 'development science',\n",
    "        'americal journal of psychiatry': 'american journal of psychiatry',\n",
    "        'angewandte chemie': 'angewande chemie',\n",
    "        'antimicrobial agfents and chemotherapy': 'antimicobial agents and chemotherapy',\n",
    "        'acta crystallographica section d, biological crystallography': 'acta crystallographica section d: biological crystallography',\n",
    "        'biologicial chemistry': 'biological chemistry',\n",
    "        'biochimica et biophysica acta - molecular basis of disease': 'biochimica et bioohysica acta - molecular basis of disease',\n",
    "        'inyernational journal of epidemiology': 'international joural of epidemiology',\n",
    "        'journal od clinical endocrinology': 'journal of clinical endocrinology',\n",
    "        'international journal of behavioural nutrition and physical activity': 'international journal of behavioral nutrition and physical activity',\n",
    "        'journal of autism and development disorders': 'journal of autism and developmental disorders',\n",
    "        'european child and adolescent psychiatty': 'european child and adolescent psychiatry'\n",
    "    }\n",
    "    \n",
    "    gold_mapping = {'J Med Chem': 'Journal of Medicial Chemistry'}\n",
    "    \n",
    "    if title in gold_mapping:\n",
    "        return gold_mapping[title]\n",
    "    \n",
    "    tokens = str(title).lower().split()\n",
    "    tokens = [word_mapping.get(tk, tk) for tk in tokens]\n",
    "    tokens = [tk.capitalize() for tk in tokens if tk]\n",
    "    return ' '.join(tokens)"
   ]
  },
  {
   "cell_type": "code",
   "execution_count": 20,
   "metadata": {},
   "outputs": [],
   "source": [
    "#get a grouped list and order by count of most articles\n",
    "cleaned_titles = apc_spend['Journal title'].apply(cleanup_journal_title)\n",
    "df_cleaned_titles = pd.DataFrame(cleaned_titles)\n",
    "grouped = df_cleaned_titles.groupby(\"Journal title\")[\"Journal title\"].agg([np.size]).sort_values(['size'], ascending=[False]).reset_index()"
   ]
  },
  {
   "cell_type": "code",
   "execution_count": 21,
   "metadata": {},
   "outputs": [],
   "source": [
    "titles = grouped['Journal title']\n",
    "counts = grouped['size']\n",
    "more_common = []\n",
    "less_common = []\n",
    "article_counts = []\n",
    "similar_titles = []\n",
    "\n",
    "for i, title_1 in enumerate(titles):\n",
    "    for title_2 in titles[i+1:]:\n",
    "        dist = editdistance.eval(title_1, title_2)\n",
    "        if 1 <= dist <= 2:\n",
    "            more_common.append(title_1)\n",
    "            less_common.append(title_2)\n",
    "            article_counts.append(counts[i])\n",
    "            \n",
    "similar_titles = list(zip(less_common, more_common,article_counts))"
   ]
  },
  {
   "cell_type": "code",
   "execution_count": 22,
   "metadata": {},
   "outputs": [],
   "source": [
    "#Evaluate for mapping\n",
    "pd.DataFrame(similar_titles).to_csv('test.csv')"
   ]
  },
  {
   "cell_type": "code",
   "execution_count": null,
   "metadata": {},
   "outputs": [],
   "source": []
  }
 ],
 "metadata": {
  "kernelspec": {
   "display_name": "Python 3",
   "language": "python",
   "name": "python3"
  },
  "language_info": {
   "codemirror_mode": {
    "name": "ipython",
    "version": 3
   },
   "file_extension": ".py",
   "mimetype": "text/x-python",
   "name": "python",
   "nbconvert_exporter": "python",
   "pygments_lexer": "ipython3",
   "version": "3.6.3"
  }
 },
 "nbformat": 4,
 "nbformat_minor": 2
}
