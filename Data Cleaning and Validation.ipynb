{
 "cells": [
  {
   "cell_type": "code",
   "execution_count": 40,
   "metadata": {},
   "outputs": [],
   "source": [
    "import numpy as np\n",
    "import pandas as pd\n",
    "import matplotlib.pyplot as plt\n",
    "import seaborn as sns\n",
    "import editdistance\n",
    "\n",
    "import re\n",
    "\n",
    "%matplotlib notebook"
   ]
  },
  {
   "cell_type": "code",
   "execution_count": 41,
   "metadata": {},
   "outputs": [],
   "source": [
    "apc_spend = pd.read_csv('WELLCOME_APCspend2013_forThinkful.csv', encoding='Latin-1')"
   ]
  },
  {
   "cell_type": "code",
   "execution_count": 42,
   "metadata": {},
   "outputs": [],
   "source": [
    "def cleanup_journal_title(title):\n",
    "    word_mapping = {\n",
    "        'j': 'journal of',\n",
    "        'med': 'medical',\n",
    "        'chem': 'chemistry',\n",
    "        'mol': 'molecular',\n",
    "        'acs': ''\n",
    "    }\n",
    "    \n",
    "    gold_mapping = {'J Med Chem': 'Journal of Medicial Chemistry',\n",
    "                    'Plosone': 'Plos One',\n",
    "                    'Neurolmage': 'Neuroimage',\n",
    "                    'Nucleic Acid Research': 'Nucleic Acids Research',\n",
    "                    'Plos Negected Tropical Diseases': 'Plos Neglected Tropical Diseases',\n",
    "                    'Biochemical Journals': 'Biochemical Journal',\n",
    "                    'Development Cell': 'Developmental Cell',\n",
    "                    'Heptology': 'Hepatology',\n",
    "                    'Plos': 'Plos One',\n",
    "                    'Journal of Medicial Chemistry': 'Journal Of Medicinal Chemistry',\n",
    "                    'Parsitology': 'Parasitology',\n",
    "                    'Journal Of The Royal Society, Interface': 'Journal Of The Royal Society Interface',\n",
    "                    'Inyernational Journal Of Epidemiology': 'International Journal Of Epidemiology',\n",
    "                    'International Joural Of Epidemiology': 'International Journal Of Epidemiology',\n",
    "                    'Pyschological Medicine': 'Psychological Medicine',\n",
    "                    'Journal Of Visualized Experiements': 'Journal Of Visualized Experiments',\n",
    "                    'British Jounal Of Pharmacology': 'British Journal Of Pharmacology',\n",
    "                    'Bmc Genomics.': 'Bmc Genomics',\n",
    "                    'Biinformatics': 'Bioinformatics',\n",
    "                    'Antimicobial Agents And Chemotherapy': 'Antimicrobial Agents And Chemotherapy',\n",
    "                    'Antimicrobial Agfents And Chemotherapy': 'Antimicrobial Agents And Chemotherapy',\n",
    "                    'The Americal Journal Of Human Genetics': 'The American Journal Of Human Genetics',\n",
    "                    'Genetic Epidemology': 'Genetic Epidemiology',\n",
    "                    'Dev. World Bioeth': 'Dev World Bioeth.',\n",
    "                    'Epigentics': 'Epigenetics',\n",
    "                    'Behaviour Research And Therapy': 'Behavior Research And Therapy',\n",
    "                    'Jounral Of Clinical Microbiology': 'Journal Of Clinical Microbiology',\n",
    "                    'Trends In Neuroscience': 'Trends In Neurosciences',\n",
    "                    'Britsh Journal Of Psychiatry': 'British Journal Of Psychiatry',\n",
    "                    'Journal Of Behaviour Therapy And Experimental Psychiatry': 'Journal Of Behavior Therapy And Experimental Psychiatry',\n",
    "                    'Journal Of Biol Chemistry': 'Journal of Biol Chemistry',\n",
    "                    'Pflugers Archive': 'Pflugers Archiv',\n",
    "                    'Bmc Genomics.': 'Bmc Genomics',\n",
    "                    'British Journal Of Opthalmology': 'British Journal Of Ophthalmology',\n",
    "                    'Current Opinions In Neurobiology': 'Current Opinion In Neurobiology',\n",
    "                    'Developmental Science': 'Development Science',\n",
    "                    'Americal Journal Of Psychiatry': 'American Journal Of Psychiatry',\n",
    "                    'Angewandte Chemie': 'Angewande Chemie',\n",
    "                    'Antimicrobial Agfents And Chemotherapy': 'Antimicobial Agents And Chemotherapy',\n",
    "                    'Acta Crystallographica Section D, Biological Crystallography': 'Acta Crystallographica Section D: Biological Crystallography',\n",
    "                    'Biologicial Chemistry': 'Biological Chemistry',\n",
    "                    'Biochimica Et Biophysica Acta - Molecular Basis Of Disease': 'Biochimica Et Bioohysica Acta - Molecular Basis Of Disease',\n",
    "                    'Inyernational Journal Of Epidemiology': 'International Joural Of Epidemiology',\n",
    "                    'Journal Od Clinical Endocrinology': 'Journal Of Clinical Endocrinology',\n",
    "                    'International Journal Of Behavioural Nutrition And Physical Activity': 'International Journal Of Behavioral Nutrition And Physical Activity',\n",
    "                    'Journal Of Autism And Development Disorders': 'Journal Of Autism And Developmental Disorders',\n",
    "                    'European Child And Adolescent Psychiatty': 'European Child And Adolescent Psychiatry'\n",
    "                   }\n",
    "    \n",
    "    if title in gold_mapping:\n",
    "        return gold_mapping[title]\n",
    "    \n",
    "    tokens = str(title).lower().split()\n",
    "    tokens = [word_mapping.get(tk, tk) for tk in tokens]\n",
    "    tokens = [tk.capitalize() for tk in tokens if tk]\n",
    "    return ' '.join(tokens)"
   ]
  },
  {
   "cell_type": "code",
   "execution_count": 43,
   "metadata": {},
   "outputs": [],
   "source": [
    "#get a grouped list and order by count of most articles\n",
    "cleaned_titles = apc_spend['Journal title'].apply(cleanup_journal_title)\n",
    "df_cleaned_titles = pd.DataFrame(cleaned_titles)\n",
    "grouped = df_cleaned_titles.groupby(\"Journal title\")[\"Journal title\"].agg([np.size]).sort_values(['size'], ascending=[False]).reset_index()"
   ]
  },
  {
   "cell_type": "code",
   "execution_count": 44,
   "metadata": {},
   "outputs": [],
   "source": [
    "titles = grouped['Journal title']\n",
    "counts = grouped['size']\n",
    "more_common = []\n",
    "less_common = []\n",
    "article_counts = []\n",
    "similar_titles = []\n",
    "\n",
    "for i, title_1 in enumerate(titles):\n",
    "    for title_2 in titles[i+1:]:\n",
    "        dist = editdistance.eval(title_1, title_2)\n",
    "        if 1 <= dist <= 2:\n",
    "            more_common.append(title_1)\n",
    "            less_common.append(title_2)\n",
    "            article_counts.append(counts[i])\n",
    "            \n",
    "similar_titles = list(zip(less_common, more_common,article_counts))"
   ]
  },
  {
   "cell_type": "code",
   "execution_count": 45,
   "metadata": {},
   "outputs": [],
   "source": [
    "#Evaluate for mapping\n",
    "pd.DataFrame(similar_titles).to_csv('test.csv')"
   ]
  },
  {
   "cell_type": "code",
   "execution_count": null,
   "metadata": {},
   "outputs": [],
   "source": []
  }
 ],
 "metadata": {
  "kernelspec": {
   "display_name": "Python 3",
   "language": "python",
   "name": "python3"
  },
  "language_info": {
   "codemirror_mode": {
    "name": "ipython",
    "version": 3
   },
   "file_extension": ".py",
   "mimetype": "text/x-python",
   "name": "python",
   "nbconvert_exporter": "python",
   "pygments_lexer": "ipython3",
   "version": "3.6.3"
  }
 },
 "nbformat": 4,
 "nbformat_minor": 2
}
