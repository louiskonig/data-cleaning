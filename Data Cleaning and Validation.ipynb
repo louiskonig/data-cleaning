{
 "cells": [
  {
   "cell_type": "code",
   "execution_count": 127,
   "metadata": {},
   "outputs": [],
   "source": [
    "import numpy as np\n",
    "import pandas as pd\n",
    "import matplotlib.pyplot as plt\n",
    "import seaborn as sns\n",
    "#%matplotlib inline\n",
    "\n",
    "import re\n",
    "\n",
    "%matplotlib notebook"
   ]
  },
  {
   "cell_type": "code",
   "execution_count": 128,
   "metadata": {},
   "outputs": [],
   "source": [
    "apc_spend = pd.read_csv('WELLCOME_APCspend2013_forThinkful.csv', encoding='Latin-1')"
   ]
  },
  {
   "cell_type": "code",
   "execution_count": 129,
   "metadata": {},
   "outputs": [
    {
     "data": {
      "text/html": [
       "<div>\n",
       "<style scoped>\n",
       "    .dataframe tbody tr th:only-of-type {\n",
       "        vertical-align: middle;\n",
       "    }\n",
       "\n",
       "    .dataframe tbody tr th {\n",
       "        vertical-align: top;\n",
       "    }\n",
       "\n",
       "    .dataframe thead th {\n",
       "        text-align: right;\n",
       "    }\n",
       "</style>\n",
       "<table border=\"1\" class=\"dataframe\">\n",
       "  <thead>\n",
       "    <tr style=\"text-align: right;\">\n",
       "      <th></th>\n",
       "      <th>article_count</th>\n",
       "      <th>mean</th>\n",
       "      <th>median</th>\n",
       "      <th>standard_dev</th>\n",
       "    </tr>\n",
       "    <tr>\n",
       "      <th>cleaned_journaltitle</th>\n",
       "      <th></th>\n",
       "      <th></th>\n",
       "      <th></th>\n",
       "      <th></th>\n",
       "    </tr>\n",
       "  </thead>\n",
       "  <tbody>\n",
       "    <tr>\n",
       "      <th>plosone</th>\n",
       "      <td>200.0</td>\n",
       "      <td>41852.749850</td>\n",
       "      <td>897.09</td>\n",
       "      <td>196539.646565</td>\n",
       "    </tr>\n",
       "    <tr>\n",
       "      <th>journalofbiologicalchemistry</th>\n",
       "      <td>53.0</td>\n",
       "      <td>20264.633962</td>\n",
       "      <td>1314.53</td>\n",
       "      <td>137165.488398</td>\n",
       "    </tr>\n",
       "    <tr>\n",
       "      <th>neuroimage</th>\n",
       "      <td>29.0</td>\n",
       "      <td>2215.168276</td>\n",
       "      <td>2326.43</td>\n",
       "      <td>266.653947</td>\n",
       "    </tr>\n",
       "    <tr>\n",
       "      <th>nucleicacidsresearch</th>\n",
       "      <td>26.0</td>\n",
       "      <td>1149.000000</td>\n",
       "      <td>852.00</td>\n",
       "      <td>442.940447</td>\n",
       "    </tr>\n",
       "    <tr>\n",
       "      <th>plosgenetics</th>\n",
       "      <td>24.0</td>\n",
       "      <td>84839.435000</td>\n",
       "      <td>1718.39</td>\n",
       "      <td>281865.707794</td>\n",
       "    </tr>\n",
       "  </tbody>\n",
       "</table>\n",
       "</div>"
      ],
      "text/plain": [
       "                              article_count          mean   median  \\\n",
       "cleaned_journaltitle                                                 \n",
       "plosone                               200.0  41852.749850   897.09   \n",
       "journalofbiologicalchemistry           53.0  20264.633962  1314.53   \n",
       "neuroimage                             29.0   2215.168276  2326.43   \n",
       "nucleicacidsresearch                   26.0   1149.000000   852.00   \n",
       "plosgenetics                           24.0  84839.435000  1718.39   \n",
       "\n",
       "                               standard_dev  \n",
       "cleaned_journaltitle                         \n",
       "plosone                       196539.646565  \n",
       "journalofbiologicalchemistry  137165.488398  \n",
       "neuroimage                       266.653947  \n",
       "nucleicacidsresearch             442.940447  \n",
       "plosgenetics                  281865.707794  "
      ]
     },
     "execution_count": 129,
     "metadata": {},
     "output_type": "execute_result"
    }
   ],
   "source": [
    "#clean journal\n",
    "apc_spend['cleaned_journaltitle'] = apc_spend['Journal title'].str.lower().apply(lambda x: ''.join(list(filter(str.isalnum, str(x).strip()))))\n",
    "grouped = apc_spend.groupby('cleaned_journaltitle').size().reset_index(name='journal_count').sort_values(['journal_count'], ascending=[False])\n",
    "grouped.head(6)\n",
    "\n",
    "#clean cost\n",
    "apc_spend['cleaned_cost'] =  apc_spend['COST (£) charged to Wellcome (inc VAT when charged)'].apply(lambda x: float(re.sub('[^0-9,.]', '', str(x))))\n",
    "\n",
    "\n",
    "#group and aggregate\n",
    "grouped = apc_spend.groupby(\"cleaned_journaltitle\")[\"cleaned_cost\"].agg([np.size, np.mean,np.median, np.std]).sort_values(['size'], ascending=[False])\n",
    "grouped.columns = ['article_count', 'mean', 'median','standard_dev']\n",
    "grouped.head()\n",
    "\n"
   ]
  },
  {
   "cell_type": "code",
   "execution_count": null,
   "metadata": {},
   "outputs": [],
   "source": []
  }
 ],
 "metadata": {
  "kernelspec": {
   "display_name": "Python 3",
   "language": "python",
   "name": "python3"
  },
  "language_info": {
   "codemirror_mode": {
    "name": "ipython",
    "version": 3
   },
   "file_extension": ".py",
   "mimetype": "text/x-python",
   "name": "python",
   "nbconvert_exporter": "python",
   "pygments_lexer": "ipython3",
   "version": "3.6.3"
  }
 },
 "nbformat": 4,
 "nbformat_minor": 2
}
